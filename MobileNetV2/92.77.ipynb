{
  "cells": [
    {
      "cell_type": "code",
      "source": [
        "#import required files\n",
        "!git clone https://github.com/RishiNandha/AWS_Dataset"
      ],
      "metadata": {
        "id": "mnIQ5xpd1ifU",
        "colab": {
          "base_uri": "https://localhost:8080/"
        },
        "outputId": "2c6e0a95-9204-41a9-d985-2d6150997baf"
      },
      "execution_count": 1,
      "outputs": [
        {
          "output_type": "stream",
          "name": "stdout",
          "text": [
            "Cloning into 'AWS_Dataset'...\n",
            "remote: Enumerating objects: 3945, done.\u001b[K\n",
            "remote: Counting objects: 100% (4/4), done.\u001b[K\n",
            "remote: Compressing objects: 100% (4/4), done.\u001b[K\n",
            "remote: Total 3945 (delta 0), reused 4 (delta 0), pack-reused 3941\u001b[K\n",
            "Receiving objects: 100% (3945/3945), 70.17 MiB | 27.89 MiB/s, done.\n",
            "Resolving deltas: 100% (1/1), done.\n",
            "Updating files: 100% (5654/5654), done.\n"
          ]
        }
      ]
    },
    {
      "cell_type": "code",
      "execution_count": 3,
      "metadata": {
        "id": "WHebwEnl--FJ"
      },
      "outputs": [],
      "source": [
        "import os\n",
        "os.chdir('AWS_Dataset')"
      ]
    },
    {
      "cell_type": "code",
      "execution_count": 52,
      "metadata": {
        "id": "APaShVRhC-xa"
      },
      "outputs": [],
      "source": [
        "import numpy as np\n",
        "import tensorflow as tf\n",
        "from tensorflow.keras.applications import MobileNet\n",
        "from tensorflow.keras.preprocessing import image\n",
        "from tensorflow.keras.applications.mobilenet import preprocess_input, decode_predictions\n",
        "from tensorflow.keras.models import Model\n",
        "from tensorflow.keras.layers import Dense, GlobalAveragePooling2D, MaxPooling2D, BatchNormalization, Dropout\n",
        "from tensorflow.keras.optimizers import Adam\n",
        "from tensorflow.keras.preprocessing.image import ImageDataGenerator\n",
        "from tensorflow.keras.callbacks import ModelCheckpoint\n",
        "from tensorflow.keras.models import load_model\n"
      ]
    },
    {
      "cell_type": "code",
      "execution_count": 37,
      "metadata": {
        "id": "L4AuctoNEulI"
      },
      "outputs": [],
      "source": [
        "train_datagen = ImageDataGenerator(preprocessing_function=preprocess_input,\n",
        "                                   rotation_range=40,\n",
        "                                   width_shift_range=0.2,\n",
        "                                   height_shift_range=0.2,\n",
        "                                   shear_range=0.2,\n",
        "                                   zoom_range=0.2,\n",
        "                                   horizontal_flip=True,\n",
        "                                   validation_split = 0.2,\n",
        "                                   fill_mode='nearest')"
      ]
    },
    {
      "cell_type": "code",
      "source": [
        "# Flow training images in batches using train_datagen\n",
        "train_generator = train_datagen.flow_from_directory(\n",
        "    '/content/AWS_Dataset/Dataset',\n",
        "    target_size=(224, 224),\n",
        "    batch_size=32,\n",
        "    class_mode='categorical',\n",
        "    subset='training'  # Use subset='training' for training data\n",
        ")\n",
        "\n",
        "# Flow validation images in batches using train_datagen\n",
        "validation_generator = train_datagen.flow_from_directory(\n",
        "    '/content/AWS_Dataset/Dataset',\n",
        "    target_size=(224, 224),\n",
        "    batch_size=32,\n",
        "    class_mode='categorical',\n",
        "    subset='validation'  # Use subset='validation' for validation data\n",
        ")\n"
      ],
      "metadata": {
        "colab": {
          "base_uri": "https://localhost:8080/"
        },
        "id": "5N5uzelN3zVC",
        "outputId": "1f3dcf71-6a1b-4220-b958-cf4c586d03b5"
      },
      "execution_count": 38,
      "outputs": [
        {
          "output_type": "stream",
          "name": "stdout",
          "text": [
            "Found 4514 images belonging to 6 classes.\n",
            "Found 1126 images belonging to 6 classes.\n"
          ]
        }
      ]
    },
    {
      "cell_type": "code",
      "execution_count": 45,
      "metadata": {
        "colab": {
          "base_uri": "https://localhost:8080/"
        },
        "id": "SA0hANuEDcJa",
        "outputId": "88008ae0-3ea4-4104-a569-ea5c89b7015a"
      },
      "outputs": [
        {
          "output_type": "stream",
          "name": "stdout",
          "text": [
            "Downloading data from https://storage.googleapis.com/tensorflow/keras-applications/mobilenet/mobilenet_1_0_224_tf_no_top.h5\n",
            "17225924/17225924 [==============================] - 1s 0us/step\n"
          ]
        }
      ],
      "source": [
        "base_model = MobileNet(input_shape=(224,224,3),\n",
        "    alpha=1.0,\n",
        "    include_top=False,\n",
        "    weights=\"imagenet\",\n",
        "    input_tensor=None,\n",
        "    pooling=None,\n",
        "    classifier_activation=\"softmax\")"
      ]
    },
    {
      "cell_type": "code",
      "execution_count": 46,
      "metadata": {
        "id": "iM7m9P0-EozJ"
      },
      "outputs": [],
      "source": [
        "base_model.trainable = False"
      ]
    },
    {
      "cell_type": "code",
      "execution_count": 47,
      "metadata": {
        "id": "YOX-KyKqELps"
      },
      "outputs": [],
      "source": [
        "num_classes = 6\n",
        "x = base_model.output\n",
        "x = GlobalAveragePooling2D()(x)\n",
        "x = Dense(256, activation = 'relu')(x)\n",
        "predictions = Dense(num_classes, activation='softmax')(x)"
      ]
    },
    {
      "cell_type": "code",
      "execution_count": 48,
      "metadata": {
        "id": "cnx0V4s7Eh1-"
      },
      "outputs": [],
      "source": [
        "model = Model(inputs=base_model.input, outputs=predictions)"
      ]
    },
    {
      "cell_type": "code",
      "execution_count": 49,
      "metadata": {
        "id": "nzmwe72lEsDH"
      },
      "outputs": [],
      "source": [
        "model.compile(optimizer='Adam', loss='categorical_crossentropy', metrics=['accuracy'])"
      ]
    },
    {
      "cell_type": "code",
      "execution_count": 53,
      "metadata": {
        "colab": {
          "base_uri": "https://localhost:8080/"
        },
        "id": "sMH0SmZjIWG4",
        "outputId": "68db84ff-5665-4e69-ff01-86486122d55a"
      },
      "outputs": [
        {
          "output_type": "stream",
          "name": "stdout",
          "text": [
            "Epoch 1/20\n",
            "141/141 [==============================] - ETA: 0s - loss: 0.4591 - accuracy: 0.8340\n",
            "Epoch 1: val_accuracy improved from -inf to 0.83125, saving model to checkpoint.h5\n",
            "141/141 [==============================] - 76s 541ms/step - loss: 0.4591 - accuracy: 0.8340 - val_loss: 0.4989 - val_accuracy: 0.8313\n"
          ]
        },
        {
          "output_type": "stream",
          "name": "stderr",
          "text": [
            "/usr/local/lib/python3.10/dist-packages/keras/src/engine/training.py:3103: UserWarning: You are saving your model as an HDF5 file via `model.save()`. This file format is considered legacy. We recommend using instead the native Keras format, e.g. `model.save('my_model.keras')`.\n",
            "  saving_api.save_model(\n"
          ]
        },
        {
          "output_type": "stream",
          "name": "stdout",
          "text": [
            "Epoch 2/20\n",
            "141/141 [==============================] - ETA: 0s - loss: 0.3650 - accuracy: 0.8693\n",
            "Epoch 2: val_accuracy improved from 0.83125 to 0.86607, saving model to checkpoint.h5\n",
            "141/141 [==============================] - 77s 544ms/step - loss: 0.3650 - accuracy: 0.8693 - val_loss: 0.4357 - val_accuracy: 0.8661\n",
            "Epoch 3/20\n",
            "141/141 [==============================] - ETA: 0s - loss: 0.3136 - accuracy: 0.8911\n",
            "Epoch 3: val_accuracy did not improve from 0.86607\n",
            "141/141 [==============================] - 76s 545ms/step - loss: 0.3136 - accuracy: 0.8911 - val_loss: 0.4192 - val_accuracy: 0.8500\n",
            "Epoch 4/20\n",
            "141/141 [==============================] - ETA: 0s - loss: 0.2672 - accuracy: 0.9105\n",
            "Epoch 4: val_accuracy improved from 0.86607 to 0.86875, saving model to checkpoint.h5\n",
            "141/141 [==============================] - 72s 512ms/step - loss: 0.2672 - accuracy: 0.9105 - val_loss: 0.4117 - val_accuracy: 0.8687\n",
            "Epoch 5/20\n",
            "141/141 [==============================] - ETA: 0s - loss: 0.2412 - accuracy: 0.9121\n",
            "Epoch 5: val_accuracy did not improve from 0.86875\n",
            "141/141 [==============================] - 71s 503ms/step - loss: 0.2412 - accuracy: 0.9121 - val_loss: 0.3988 - val_accuracy: 0.8670\n",
            "Epoch 6/20\n",
            "141/141 [==============================] - ETA: 0s - loss: 0.2249 - accuracy: 0.9201\n",
            "Epoch 6: val_accuracy did not improve from 0.86875\n",
            "141/141 [==============================] - 76s 543ms/step - loss: 0.2249 - accuracy: 0.9201 - val_loss: 0.5229 - val_accuracy: 0.8384\n",
            "Epoch 7/20\n",
            "141/141 [==============================] - ETA: 0s - loss: 0.1886 - accuracy: 0.9335\n",
            "Epoch 7: val_accuracy improved from 0.86875 to 0.88661, saving model to checkpoint.h5\n",
            "141/141 [==============================] - 79s 561ms/step - loss: 0.1886 - accuracy: 0.9335 - val_loss: 0.3614 - val_accuracy: 0.8866\n",
            "Epoch 8/20\n",
            "141/141 [==============================] - ETA: 0s - loss: 0.1766 - accuracy: 0.9315\n",
            "Epoch 8: val_accuracy improved from 0.88661 to 0.90000, saving model to checkpoint.h5\n",
            "141/141 [==============================] - 77s 544ms/step - loss: 0.1766 - accuracy: 0.9315 - val_loss: 0.3615 - val_accuracy: 0.9000\n",
            "Epoch 9/20\n",
            "141/141 [==============================] - ETA: 0s - loss: 0.1506 - accuracy: 0.9476\n",
            "Epoch 9: val_accuracy improved from 0.90000 to 0.90268, saving model to checkpoint.h5\n",
            "141/141 [==============================] - 71s 504ms/step - loss: 0.1506 - accuracy: 0.9476 - val_loss: 0.3256 - val_accuracy: 0.9027\n",
            "Epoch 10/20\n",
            "141/141 [==============================] - ETA: 0s - loss: 0.1464 - accuracy: 0.9502\n",
            "Epoch 10: val_accuracy improved from 0.90268 to 0.90714, saving model to checkpoint.h5\n",
            "141/141 [==============================] - 71s 506ms/step - loss: 0.1464 - accuracy: 0.9502 - val_loss: 0.3362 - val_accuracy: 0.9071\n",
            "Epoch 11/20\n",
            "141/141 [==============================] - ETA: 0s - loss: 0.1227 - accuracy: 0.9592\n",
            "Epoch 11: val_accuracy improved from 0.90714 to 0.90982, saving model to checkpoint.h5\n",
            "141/141 [==============================] - 76s 541ms/step - loss: 0.1227 - accuracy: 0.9592 - val_loss: 0.3141 - val_accuracy: 0.9098\n",
            "Epoch 12/20\n",
            "141/141 [==============================] - ETA: 0s - loss: 0.1421 - accuracy: 0.9520\n",
            "Epoch 12: val_accuracy did not improve from 0.90982\n",
            "141/141 [==============================] - 71s 507ms/step - loss: 0.1421 - accuracy: 0.9520 - val_loss: 0.3787 - val_accuracy: 0.8991\n",
            "Epoch 13/20\n",
            "141/141 [==============================] - ETA: 0s - loss: 0.1400 - accuracy: 0.9491\n",
            "Epoch 13: val_accuracy did not improve from 0.90982\n",
            "141/141 [==============================] - 78s 551ms/step - loss: 0.1400 - accuracy: 0.9491 - val_loss: 0.3497 - val_accuracy: 0.9045\n",
            "Epoch 14/20\n",
            "141/141 [==============================] - ETA: 0s - loss: 0.1056 - accuracy: 0.9659\n",
            "Epoch 14: val_accuracy did not improve from 0.90982\n",
            "141/141 [==============================] - 77s 549ms/step - loss: 0.1056 - accuracy: 0.9659 - val_loss: 0.3677 - val_accuracy: 0.8982\n",
            "Epoch 15/20\n",
            "141/141 [==============================] - ETA: 0s - loss: 0.0871 - accuracy: 0.9694\n",
            "Epoch 15: val_accuracy did not improve from 0.90982\n",
            "141/141 [==============================] - 71s 504ms/step - loss: 0.0871 - accuracy: 0.9694 - val_loss: 0.3716 - val_accuracy: 0.9089\n",
            "Epoch 16/20\n",
            "141/141 [==============================] - ETA: 0s - loss: 0.0885 - accuracy: 0.9714\n",
            "Epoch 16: val_accuracy improved from 0.90982 to 0.91339, saving model to checkpoint.h5\n",
            "141/141 [==============================] - 77s 542ms/step - loss: 0.0885 - accuracy: 0.9714 - val_loss: 0.3371 - val_accuracy: 0.9134\n",
            "Epoch 17/20\n",
            "141/141 [==============================] - ETA: 0s - loss: 0.0620 - accuracy: 0.9793\n",
            "Epoch 17: val_accuracy improved from 0.91339 to 0.91964, saving model to checkpoint.h5\n",
            "141/141 [==============================] - 77s 545ms/step - loss: 0.0620 - accuracy: 0.9793 - val_loss: 0.3182 - val_accuracy: 0.9196\n",
            "Epoch 18/20\n",
            "141/141 [==============================] - ETA: 0s - loss: 0.0860 - accuracy: 0.9692\n",
            "Epoch 18: val_accuracy did not improve from 0.91964\n",
            "141/141 [==============================] - 72s 513ms/step - loss: 0.0860 - accuracy: 0.9692 - val_loss: 0.3836 - val_accuracy: 0.9027\n",
            "Epoch 19/20\n",
            "141/141 [==============================] - ETA: 0s - loss: 0.0806 - accuracy: 0.9701\n",
            "Epoch 19: val_accuracy improved from 0.91964 to 0.92679, saving model to checkpoint.h5\n",
            "141/141 [==============================] - 78s 553ms/step - loss: 0.0806 - accuracy: 0.9701 - val_loss: 0.2996 - val_accuracy: 0.9268\n",
            "Epoch 20/20\n",
            "141/141 [==============================] - ETA: 0s - loss: 0.0697 - accuracy: 0.9763\n",
            "Epoch 20: val_accuracy did not improve from 0.92679\n",
            "141/141 [==============================] - 77s 546ms/step - loss: 0.0697 - accuracy: 0.9763 - val_loss: 0.3197 - val_accuracy: 0.9259\n"
          ]
        }
      ],
      "source": [
        "checkpoint_path = \"checkpoint.h5\"\n",
        "batch_size = 32\n",
        "epochs = 20\n",
        "checkpoint = ModelCheckpoint(checkpoint_path, monitor='val_accuracy', verbose=1, save_best_only=True, mode='max')\n",
        "\n",
        "# Train your model\n",
        "history = model.fit(\n",
        "    train_generator,\n",
        "    steps_per_epoch=train_generator.samples // batch_size,\n",
        "    epochs= epochs,\n",
        "    validation_data=validation_generator,\n",
        "    validation_steps=validation_generator.samples // batch_size,\n",
        "    callbacks=[checkpoint])\n",
        "\n",
        "# Load the best checkpoint for final evaluation\n",
        "model.load_weights(checkpoint_path)"
      ]
    },
    {
      "cell_type": "code",
      "source": [
        "model = load_model('checkpoint.h5')\n",
        "checkpoint = ModelCheckpoint('checkpoint.h5', monitor='val_accuracy', save_best_only=True)\n",
        "# Continue training with additional epochs\n",
        "additional_epochs = 10\n",
        "history = model.fit(train_generator, epochs=additional_epochs, validation_data=validation_generator, callbacks=[checkpoint])"
      ],
      "metadata": {
        "colab": {
          "base_uri": "https://localhost:8080/"
        },
        "id": "Rbyj6QN-P4t_",
        "outputId": "92875010-9655-4ea0-9f43-c8024b4f8166"
      },
      "execution_count": 58,
      "outputs": [
        {
          "output_type": "stream",
          "name": "stdout",
          "text": [
            "Epoch 1/10\n",
            "142/142 [==============================] - 74s 511ms/step - loss: 0.0736 - accuracy: 0.9730 - val_loss: 0.4590 - val_accuracy: 0.8979\n",
            "Epoch 2/10\n",
            "142/142 [==============================] - 73s 513ms/step - loss: 0.1020 - accuracy: 0.9646 - val_loss: 0.3731 - val_accuracy: 0.9023\n",
            "Epoch 3/10\n",
            "142/142 [==============================] - 74s 522ms/step - loss: 0.0844 - accuracy: 0.9734 - val_loss: 0.2988 - val_accuracy: 0.9281\n",
            "Epoch 4/10\n",
            "142/142 [==============================] - 73s 515ms/step - loss: 0.0571 - accuracy: 0.9829 - val_loss: 0.3333 - val_accuracy: 0.9210\n",
            "Epoch 5/10\n",
            "142/142 [==============================] - 72s 507ms/step - loss: 0.0541 - accuracy: 0.9816 - val_loss: 0.4842 - val_accuracy: 0.9032\n",
            "Epoch 6/10\n",
            "142/142 [==============================] - 69s 490ms/step - loss: 0.0537 - accuracy: 0.9814 - val_loss: 0.3489 - val_accuracy: 0.9263\n",
            "Epoch 7/10\n",
            "142/142 [==============================] - 71s 501ms/step - loss: 0.0496 - accuracy: 0.9821 - val_loss: 0.2918 - val_accuracy: 0.9343\n",
            "Epoch 8/10\n",
            "142/142 [==============================] - 73s 511ms/step - loss: 0.0521 - accuracy: 0.9827 - val_loss: 0.4002 - val_accuracy: 0.9165\n",
            "Epoch 9/10\n",
            "142/142 [==============================] - 71s 501ms/step - loss: 0.0570 - accuracy: 0.9807 - val_loss: 0.3389 - val_accuracy: 0.9298\n",
            "Epoch 10/10\n",
            "142/142 [==============================] - 71s 499ms/step - loss: 0.0571 - accuracy: 0.9805 - val_loss: 0.3922 - val_accuracy: 0.9174\n"
          ]
        }
      ]
    },
    {
      "cell_type": "code",
      "source": [
        "model.load_weights(checkpoint_path)"
      ],
      "metadata": {
        "id": "ce4iILMIZaBj"
      },
      "execution_count": 59,
      "outputs": []
    },
    {
      "cell_type": "code",
      "execution_count": 60,
      "metadata": {
        "id": "8zeoxrLzRZ04",
        "colab": {
          "base_uri": "https://localhost:8080/"
        },
        "outputId": "a52f8f43-1742-41c9-b460-7dc1a2722b3f"
      },
      "outputs": [
        {
          "output_type": "stream",
          "name": "stdout",
          "text": [
            "141/141 [==============================] - 57s 402ms/step - loss: 0.0396 - accuracy: 0.9883\n",
            "Train Accuracy: 0.9882535338401794\n"
          ]
        }
      ],
      "source": [
        "train_accuracy = model.evaluate(train_generator, steps=train_generator.samples // batch_size)[1]\n",
        "print(\"Train Accuracy:\", train_accuracy)"
      ]
    },
    {
      "cell_type": "code",
      "execution_count": 61,
      "metadata": {
        "id": "Oyq5oLq5HLdz",
        "colab": {
          "base_uri": "https://localhost:8080/"
        },
        "outputId": "af32769c-b0d1-4f0d-d5be-775760a7c1b7"
      },
      "outputs": [
        {
          "output_type": "stream",
          "name": "stdout",
          "text": [
            "35/35 [==============================] - 14s 396ms/step - loss: 0.3090 - accuracy: 0.9277\n",
            "Validation Accuracy: 0.9276785850524902\n"
          ]
        }
      ],
      "source": [
        "validation_accuracy = model.evaluate(validation_generator, steps=validation_generator.samples // batch_size)[1]\n",
        "print(\"Validation Accuracy:\", validation_accuracy)"
      ]
    },
    {
      "cell_type": "code",
      "execution_count": null,
      "metadata": {
        "id": "ztIxiK2jRlSt"
      },
      "outputs": [],
      "source": []
    }
  ],
  "metadata": {
    "accelerator": "GPU",
    "colab": {
      "gpuType": "T4",
      "provenance": []
    },
    "kernelspec": {
      "display_name": "Python 3",
      "name": "python3"
    },
    "language_info": {
      "name": "python"
    }
  },
  "nbformat": 4,
  "nbformat_minor": 0
}